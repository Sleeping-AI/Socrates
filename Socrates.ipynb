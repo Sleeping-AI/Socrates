{
  "nbformat": 4,
  "nbformat_minor": 0,
  "metadata": {
    "colab": {
      "provenance": []
    },
    "kernelspec": {
      "name": "python3",
      "display_name": "Python 3"
    },
    "language_info": {
      "name": "python"
    },
    "accelerator": "GPU",
    "gpuClass": "standard"
  },
  "cells": [
    {
      "cell_type": "markdown",
      "source": [
        "Importing libraries"
      ],
      "metadata": {
        "id": "woSAjSqlXszk"
      }
    },
    {
      "cell_type": "code",
      "execution_count": 1,
      "metadata": {
        "id": "BtweJ59HiAIz"
      },
      "outputs": [],
      "source": [
        "import pathlib\n",
        "import random\n",
        "import string\n",
        "import re\n",
        "import numpy as np\n",
        "import tensorflow as tf\n",
        "from tensorflow import keras\n",
        "from tensorflow.keras import layers\n",
        "from tensorflow.keras.layers import TextVectorization"
      ]
    },
    {
      "cell_type": "markdown",
      "source": [
        "dataset file-path and loading the dataset"
      ],
      "metadata": {
        "id": "1cS_69klY6m0"
      }
    },
    {
      "cell_type": "code",
      "source": [
        "text_file = \"/content/valyrian.txt\""
      ],
      "metadata": {
        "id": "KdwKSBt2Y_zb"
      },
      "execution_count": 2,
      "outputs": []
    },
    {
      "cell_type": "markdown",
      "source": [
        "Parsing the data"
      ],
      "metadata": {
        "id": "F_OFVDwPZIY7"
      }
    },
    {
      "cell_type": "code",
      "source": [
        "with open(text_file) as f:\n",
        "    lines = f.read().split(\"\\n\")[:-1]\n",
        "text_pairs = []\n",
        "for line in lines:\n",
        "    eng, spa = line.split(\"\\t\")\n",
        "    spa = \"[start] \" + spa + \" [end]\"\n",
        "    text_pairs.append((eng, spa))"
      ],
      "metadata": {
        "id": "DBp_yj7FZKHR"
      },
      "execution_count": 3,
      "outputs": []
    },
    {
      "cell_type": "code",
      "source": [
        "for _ in range(5):\n",
        "    print(random.choice(text_pairs))"
      ],
      "metadata": {
        "colab": {
          "base_uri": "https://localhost:8080/"
        },
        "id": "Wedxaot_ZPQ_",
        "outputId": "491fada7-d7b4-45d6-b094-30aae0c9c764"
      },
      "execution_count": 4,
      "outputs": [
        {
          "output_type": "stream",
          "name": "stdout",
          "text": [
            "(\"Tom told you, didn't he?\", \"[start] tom ivestretan ao, didn't ziry? [end]\")\n",
            "('Tom is standing in the corner of the room.', '[start] tom iksis standing isse se corner hen tistālion. [end]')\n",
            "('Are you busy tomorrow afternoon?', '[start] issi ao busy hemtubis afternoon? [end]')\n",
            "('My sister is shorter than you.', '[start] ñuha mandia iksis shorter than ao. [end]')\n",
            "(\"It's too late to do anything about that now.\", '[start] ziry iksos tolī late naejot gaomagon mirros nūmāzma bona sir. [end]')\n"
          ]
        }
      ]
    },
    {
      "cell_type": "markdown",
      "source": [
        "splitting the data"
      ],
      "metadata": {
        "id": "xvov1UrdZSQd"
      }
    },
    {
      "cell_type": "code",
      "source": [
        "random.shuffle(text_pairs)\n",
        "num_val_samples = int(0.15 * len(text_pairs))\n",
        "num_train_samples = len(text_pairs) - 2 * num_val_samples\n",
        "train_pairs = text_pairs[:num_train_samples]\n",
        "val_pairs = text_pairs[num_train_samples : num_train_samples + num_val_samples]\n",
        "test_pairs = text_pairs[num_train_samples + num_val_samples :]\n",
        "\n",
        "print(f\"{len(text_pairs)} total pairs\")\n",
        "print(f\"{len(train_pairs)} training pairs\")\n",
        "print(f\"{len(val_pairs)} validation pairs\")\n",
        "print(f\"{len(test_pairs)} test pairs\")"
      ],
      "metadata": {
        "colab": {
          "base_uri": "https://localhost:8080/"
        },
        "id": "PygYzaQTZUHx",
        "outputId": "5f855c29-9105-4b30-9acc-fe493cbb6696"
      },
      "execution_count": 5,
      "outputs": [
        {
          "output_type": "stream",
          "name": "stdout",
          "text": [
            "154 total pairs\n",
            "108 training pairs\n",
            "23 validation pairs\n",
            "23 test pairs\n"
          ]
        }
      ]
    },
    {
      "cell_type": "markdown",
      "source": [
        "Vectorizing the text data"
      ],
      "metadata": {
        "id": "9N_z7U1iZWKa"
      }
    },
    {
      "cell_type": "code",
      "source": [
        "strip_chars = string.punctuation + \"¿\"\n",
        "strip_chars = strip_chars.replace(\"[\", \"\")\n",
        "strip_chars = strip_chars.replace(\"]\", \"\")\n",
        "\n",
        "vocab_size = 15000\n",
        "sequence_length = 20\n",
        "batch_size = 64\n",
        "\n",
        "\n",
        "def custom_standardization(input_string):\n",
        "    lowercase = tf.strings.lower(input_string)\n",
        "    return tf.strings.regex_replace(lowercase, \"[%s]\" % re.escape(strip_chars), \"\")\n",
        "\n",
        "\n",
        "eng_vectorization = TextVectorization(\n",
        "    max_tokens=vocab_size, output_mode=\"int\", output_sequence_length=sequence_length,\n",
        ")\n",
        "spa_vectorization = TextVectorization(\n",
        "    max_tokens=vocab_size,\n",
        "    output_mode=\"int\",\n",
        "    output_sequence_length=sequence_length + 1,\n",
        "    standardize=custom_standardization,\n",
        ")\n",
        "train_eng_texts = [pair[0] for pair in train_pairs]\n",
        "train_spa_texts = [pair[1] for pair in train_pairs]\n",
        "eng_vectorization.adapt(train_eng_texts)\n",
        "spa_vectorization.adapt(train_spa_texts)"
      ],
      "metadata": {
        "id": "EqNeY795ZYxD"
      },
      "execution_count": 6,
      "outputs": []
    },
    {
      "cell_type": "code",
      "source": [
        "def format_dataset(eng, spa):\n",
        "    eng = eng_vectorization(eng)\n",
        "    spa = spa_vectorization(spa)\n",
        "    return ({\"encoder_inputs\": eng, \"decoder_inputs\": spa[:, :-1],}, spa[:, 1:])\n",
        "\n",
        "\n",
        "def make_dataset(pairs):\n",
        "    eng_texts, spa_texts = zip(*pairs)\n",
        "    eng_texts = list(eng_texts)\n",
        "    spa_texts = list(spa_texts)\n",
        "    dataset = tf.data.Dataset.from_tensor_slices((eng_texts, spa_texts))\n",
        "    dataset = dataset.batch(batch_size)\n",
        "    dataset = dataset.map(format_dataset)\n",
        "    return dataset.shuffle(2048).prefetch(16).cache()\n",
        "\n",
        "\n",
        "train_ds = make_dataset(train_pairs)\n",
        "val_ds = make_dataset(val_pairs)"
      ],
      "metadata": {
        "id": "pM9mhL5TZdYk"
      },
      "execution_count": 7,
      "outputs": []
    },
    {
      "cell_type": "code",
      "source": [
        "for inputs, targets in train_ds.take(1):\n",
        "    print(f'inputs[\"encoder_inputs\"].shape: {inputs[\"encoder_inputs\"].shape}')\n",
        "    print(f'inputs[\"decoder_inputs\"].shape: {inputs[\"decoder_inputs\"].shape}')\n",
        "    print(f\"targets.shape: {targets.shape}\")"
      ],
      "metadata": {
        "colab": {
          "base_uri": "https://localhost:8080/"
        },
        "id": "7Pd6surPZf5k",
        "outputId": "9fa45da3-7474-4e77-b08e-4c7e6f7b2c24"
      },
      "execution_count": 8,
      "outputs": [
        {
          "output_type": "stream",
          "name": "stdout",
          "text": [
            "inputs[\"encoder_inputs\"].shape: (64, 20)\n",
            "inputs[\"decoder_inputs\"].shape: (64, 20)\n",
            "targets.shape: (64, 20)\n"
          ]
        }
      ]
    },
    {
      "cell_type": "markdown",
      "source": [
        "Building the model"
      ],
      "metadata": {
        "id": "8XayUCjWbXMt"
      }
    },
    {
      "cell_type": "code",
      "source": [
        "class TransformerEncoder(layers.Layer):\n",
        "    def __init__(self, embed_dim, dense_dim, num_heads, **kwargs):\n",
        "        super(TransformerEncoder, self).__init__(**kwargs)\n",
        "        self.embed_dim = embed_dim\n",
        "        self.dense_dim = dense_dim\n",
        "        self.num_heads = num_heads\n",
        "        self.attention = layers.MultiHeadAttention(\n",
        "            num_heads=num_heads, key_dim=embed_dim\n",
        "        )\n",
        "        self.dense_proj = keras.Sequential(\n",
        "            [layers.Dense(dense_dim, activation=\"relu\"), layers.Dense(embed_dim),]\n",
        "        )\n",
        "        self.layernorm_1 = layers.LayerNormalization()\n",
        "        self.layernorm_2 = layers.LayerNormalization()\n",
        "        self.supports_masking = True\n",
        "\n",
        "    def call(self, inputs, mask=None):\n",
        "        if mask is not None:\n",
        "            padding_mask = tf.cast(mask[:, tf.newaxis, tf.newaxis, :], dtype=\"int32\")\n",
        "        attention_output = self.attention(\n",
        "            query=inputs, value=inputs, key=inputs, attention_mask=padding_mask\n",
        "        )\n",
        "        proj_input = self.layernorm_1(inputs + attention_output)\n",
        "        proj_output = self.dense_proj(proj_input)\n",
        "        return self.layernorm_2(proj_input + proj_output)\n",
        "\n",
        "\n",
        "class PositionalEmbedding(layers.Layer):\n",
        "    def __init__(self, sequence_length, vocab_size, embed_dim, **kwargs):\n",
        "        super(PositionalEmbedding, self).__init__(**kwargs)\n",
        "        self.token_embeddings = layers.Embedding(\n",
        "            input_dim=vocab_size, output_dim=embed_dim\n",
        "        )\n",
        "        self.position_embeddings = layers.Embedding(\n",
        "            input_dim=sequence_length, output_dim=embed_dim\n",
        "        )\n",
        "        self.sequence_length = sequence_length\n",
        "        self.vocab_size = vocab_size\n",
        "        self.embed_dim = embed_dim\n",
        "\n",
        "    def call(self, inputs):\n",
        "        length = tf.shape(inputs)[-1]\n",
        "        positions = tf.range(start=0, limit=length, delta=1)\n",
        "        embedded_tokens = self.token_embeddings(inputs)\n",
        "        embedded_positions = self.position_embeddings(positions)\n",
        "        return embedded_tokens + embedded_positions\n",
        "\n",
        "    def compute_mask(self, inputs, mask=None):\n",
        "        return tf.math.not_equal(inputs, 0)\n",
        "\n",
        "\n",
        "class TransformerDecoder(layers.Layer):\n",
        "    def __init__(self, embed_dim, latent_dim, num_heads, **kwargs):\n",
        "        super(TransformerDecoder, self).__init__(**kwargs)\n",
        "        self.embed_dim = embed_dim\n",
        "        self.latent_dim = latent_dim\n",
        "        self.num_heads = num_heads\n",
        "        self.attention_1 = layers.MultiHeadAttention(\n",
        "            num_heads=num_heads, key_dim=embed_dim\n",
        "        )\n",
        "        self.attention_2 = layers.MultiHeadAttention(\n",
        "            num_heads=num_heads, key_dim=embed_dim\n",
        "        )\n",
        "        self.dense_proj = keras.Sequential(\n",
        "            [layers.Dense(latent_dim, activation=\"relu\"), layers.Dense(embed_dim),]\n",
        "        )\n",
        "        self.layernorm_1 = layers.LayerNormalization()\n",
        "        self.layernorm_2 = layers.LayerNormalization()\n",
        "        self.layernorm_3 = layers.LayerNormalization()\n",
        "        self.supports_masking = True\n",
        "\n",
        "    def call(self, inputs, encoder_outputs, mask=None):\n",
        "        causal_mask = self.get_causal_attention_mask(inputs)\n",
        "        if mask is not None:\n",
        "            padding_mask = tf.cast(mask[:, tf.newaxis, :], dtype=\"int32\")\n",
        "            padding_mask = tf.minimum(padding_mask, causal_mask)\n",
        "\n",
        "        attention_output_1 = self.attention_1(\n",
        "            query=inputs, value=inputs, key=inputs, attention_mask=causal_mask\n",
        "        )\n",
        "        out_1 = self.layernorm_1(inputs + attention_output_1)\n",
        "\n",
        "        attention_output_2 = self.attention_2(\n",
        "            query=out_1,\n",
        "            value=encoder_outputs,\n",
        "            key=encoder_outputs,\n",
        "            attention_mask=padding_mask,\n",
        "        )\n",
        "        out_2 = self.layernorm_2(out_1 + attention_output_2)\n",
        "\n",
        "        proj_output = self.dense_proj(out_2)\n",
        "        return self.layernorm_3(out_2 + proj_output)\n",
        "\n",
        "    def get_causal_attention_mask(self, inputs):\n",
        "        input_shape = tf.shape(inputs)\n",
        "        batch_size, sequence_length = input_shape[0], input_shape[1]\n",
        "        i = tf.range(sequence_length)[:, tf.newaxis]\n",
        "        j = tf.range(sequence_length)\n",
        "        mask = tf.cast(i >= j, dtype=\"int32\")\n",
        "        mask = tf.reshape(mask, (1, input_shape[1], input_shape[1]))\n",
        "        mult = tf.concat(\n",
        "            [tf.expand_dims(batch_size, -1), tf.constant([1, 1], dtype=tf.int32)],\n",
        "            axis=0,\n",
        "        )\n",
        "        return tf.tile(mask, mult)"
      ],
      "metadata": {
        "id": "fRaK6rJNbWXE"
      },
      "execution_count": 9,
      "outputs": []
    },
    {
      "cell_type": "markdown",
      "source": [
        "end-end model"
      ],
      "metadata": {
        "id": "ZVraMX0FbbgO"
      }
    },
    {
      "cell_type": "code",
      "source": [
        "embed_dim = 256\n",
        "latent_dim = 2048\n",
        "num_heads = 8\n",
        "\n",
        "encoder_inputs = keras.Input(shape=(None,), dtype=\"int64\", name=\"encoder_inputs\")\n",
        "x = PositionalEmbedding(sequence_length, vocab_size, embed_dim)(encoder_inputs)\n",
        "encoder_outputs = TransformerEncoder(embed_dim, latent_dim, num_heads)(x)\n",
        "encoder = keras.Model(encoder_inputs, encoder_outputs)\n",
        "\n",
        "decoder_inputs = keras.Input(shape=(None,), dtype=\"int64\", name=\"decoder_inputs\")\n",
        "encoded_seq_inputs = keras.Input(shape=(None, embed_dim), name=\"decoder_state_inputs\")\n",
        "x = PositionalEmbedding(sequence_length, vocab_size, embed_dim)(decoder_inputs)\n",
        "x = TransformerDecoder(embed_dim, latent_dim, num_heads)(x, encoded_seq_inputs)\n",
        "x = layers.Dropout(0.5)(x)\n",
        "decoder_outputs = layers.Dense(vocab_size, activation=\"softmax\")(x)\n",
        "decoder = keras.Model([decoder_inputs, encoded_seq_inputs], decoder_outputs)\n",
        "\n",
        "decoder_outputs = decoder([decoder_inputs, encoder_outputs])\n",
        "transformer = keras.Model(\n",
        "    [encoder_inputs, decoder_inputs], decoder_outputs, name=\"transformer\"\n",
        ")"
      ],
      "metadata": {
        "id": "lOgCQEGsba4a"
      },
      "execution_count": 10,
      "outputs": []
    },
    {
      "cell_type": "markdown",
      "source": [
        "Training the model"
      ],
      "metadata": {
        "id": "6XPDXmawbgxB"
      }
    },
    {
      "cell_type": "code",
      "source": [
        "epochs = 30  # This should be at least 30 for convergence\n",
        "\n",
        "transformer.summary()\n",
        "transformer.compile(\n",
        "    \"rmsprop\", loss=\"sparse_categorical_crossentropy\", metrics=[\"accuracy\"]\n",
        ")\n",
        "transformer.fit(train_ds, epochs=epochs, validation_data=val_ds)"
      ],
      "metadata": {
        "colab": {
          "base_uri": "https://localhost:8080/"
        },
        "id": "MA0EIZ-ubh-1",
        "outputId": "470c318c-69fd-41d4-c463-aff9c8ea1cd4"
      },
      "execution_count": 11,
      "outputs": [
        {
          "output_type": "stream",
          "name": "stdout",
          "text": [
            "Model: \"transformer\"\n",
            "__________________________________________________________________________________________________\n",
            " Layer (type)                   Output Shape         Param #     Connected to                     \n",
            "==================================================================================================\n",
            " encoder_inputs (InputLayer)    [(None, None)]       0           []                               \n",
            "                                                                                                  \n",
            " positional_embedding (Position  (None, None, 256)   3845120     ['encoder_inputs[0][0]']         \n",
            " alEmbedding)                                                                                     \n",
            "                                                                                                  \n",
            " decoder_inputs (InputLayer)    [(None, None)]       0           []                               \n",
            "                                                                                                  \n",
            " transformer_encoder (Transform  (None, None, 256)   3155456     ['positional_embedding[0][0]']   \n",
            " erEncoder)                                                                                       \n",
            "                                                                                                  \n",
            " model_1 (Functional)           (None, None, 15000)  12959640    ['decoder_inputs[0][0]',         \n",
            "                                                                  'transformer_encoder[0][0]']    \n",
            "                                                                                                  \n",
            "==================================================================================================\n",
            "Total params: 19,960,216\n",
            "Trainable params: 19,960,216\n",
            "Non-trainable params: 0\n",
            "__________________________________________________________________________________________________\n",
            "Epoch 1/30\n",
            "2/2 [==============================] - 9s 767ms/step - loss: 3.4992 - accuracy: 0.1089 - val_loss: 3.2786 - val_accuracy: 0.2807\n",
            "Epoch 2/30\n",
            "2/2 [==============================] - 0s 115ms/step - loss: 3.1229 - accuracy: 0.2290 - val_loss: 2.6536 - val_accuracy: 0.1345\n",
            "Epoch 3/30\n",
            "2/2 [==============================] - 0s 68ms/step - loss: 2.5054 - accuracy: 0.1423 - val_loss: 2.2828 - val_accuracy: 0.1871\n",
            "Epoch 4/30\n",
            "2/2 [==============================] - 0s 73ms/step - loss: 2.1211 - accuracy: 0.1634 - val_loss: 2.0915 - val_accuracy: 0.1754\n",
            "Epoch 5/30\n",
            "2/2 [==============================] - 0s 69ms/step - loss: 1.9333 - accuracy: 0.1807 - val_loss: 2.0689 - val_accuracy: 0.1345\n",
            "Epoch 6/30\n",
            "2/2 [==============================] - 0s 75ms/step - loss: 1.8590 - accuracy: 0.1386 - val_loss: 1.9846 - val_accuracy: 0.1345\n",
            "Epoch 7/30\n",
            "2/2 [==============================] - 0s 75ms/step - loss: 1.7594 - accuracy: 0.1535 - val_loss: 1.9473 - val_accuracy: 0.2456\n",
            "Epoch 8/30\n",
            "2/2 [==============================] - 0s 69ms/step - loss: 1.7002 - accuracy: 0.2017 - val_loss: 1.8881 - val_accuracy: 0.2865\n",
            "Epoch 9/30\n",
            "2/2 [==============================] - 0s 68ms/step - loss: 1.6499 - accuracy: 0.2599 - val_loss: 1.9398 - val_accuracy: 0.1813\n",
            "Epoch 10/30\n",
            "2/2 [==============================] - 0s 70ms/step - loss: 1.6700 - accuracy: 0.1733 - val_loss: 1.9195 - val_accuracy: 0.1462\n",
            "Epoch 11/30\n",
            "2/2 [==============================] - 0s 67ms/step - loss: 1.6106 - accuracy: 0.1597 - val_loss: 1.8570 - val_accuracy: 0.2807\n",
            "Epoch 12/30\n",
            "2/2 [==============================] - 0s 72ms/step - loss: 1.5204 - accuracy: 0.2970 - val_loss: 1.8149 - val_accuracy: 0.3216\n",
            "Epoch 13/30\n",
            "2/2 [==============================] - 0s 65ms/step - loss: 1.4588 - accuracy: 0.3354 - val_loss: 1.8338 - val_accuracy: 0.2281\n",
            "Epoch 14/30\n",
            "2/2 [==============================] - 0s 74ms/step - loss: 1.4301 - accuracy: 0.3007 - val_loss: 1.7777 - val_accuracy: 0.2281\n",
            "Epoch 15/30\n",
            "2/2 [==============================] - 0s 68ms/step - loss: 1.4095 - accuracy: 0.3106 - val_loss: 1.7882 - val_accuracy: 0.3041\n",
            "Epoch 16/30\n",
            "2/2 [==============================] - 0s 75ms/step - loss: 1.4319 - accuracy: 0.2946 - val_loss: 1.7402 - val_accuracy: 0.2924\n",
            "Epoch 17/30\n",
            "2/2 [==============================] - 0s 75ms/step - loss: 1.2910 - accuracy: 0.3441 - val_loss: 1.6996 - val_accuracy: 0.3333\n",
            "Epoch 18/30\n",
            "2/2 [==============================] - 0s 73ms/step - loss: 1.2246 - accuracy: 0.3849 - val_loss: 1.6718 - val_accuracy: 0.3392\n",
            "Epoch 19/30\n",
            "2/2 [==============================] - 0s 65ms/step - loss: 1.1461 - accuracy: 0.4220 - val_loss: 1.6523 - val_accuracy: 0.3333\n",
            "Epoch 20/30\n",
            "2/2 [==============================] - 0s 74ms/step - loss: 1.0827 - accuracy: 0.4332 - val_loss: 1.6086 - val_accuracy: 0.3450\n",
            "Epoch 21/30\n",
            "2/2 [==============================] - 0s 69ms/step - loss: 0.9972 - accuracy: 0.5124 - val_loss: 1.5854 - val_accuracy: 0.3743\n",
            "Epoch 22/30\n",
            "2/2 [==============================] - 0s 68ms/step - loss: 0.9461 - accuracy: 0.5359 - val_loss: 1.6054 - val_accuracy: 0.3450\n",
            "Epoch 23/30\n",
            "2/2 [==============================] - 0s 71ms/step - loss: 0.9427 - accuracy: 0.4938 - val_loss: 1.6091 - val_accuracy: 0.3392\n",
            "Epoch 24/30\n",
            "2/2 [==============================] - 0s 75ms/step - loss: 0.8883 - accuracy: 0.5495 - val_loss: 1.5475 - val_accuracy: 0.3860\n",
            "Epoch 25/30\n",
            "2/2 [==============================] - 0s 68ms/step - loss: 0.7980 - accuracy: 0.6312 - val_loss: 1.5685 - val_accuracy: 0.3860\n",
            "Epoch 26/30\n",
            "2/2 [==============================] - 0s 68ms/step - loss: 0.7745 - accuracy: 0.5866 - val_loss: 1.5029 - val_accuracy: 0.4269\n",
            "Epoch 27/30\n",
            "2/2 [==============================] - 0s 68ms/step - loss: 0.6856 - accuracy: 0.6473 - val_loss: 1.4355 - val_accuracy: 0.4561\n",
            "Epoch 28/30\n",
            "2/2 [==============================] - 0s 69ms/step - loss: 0.6204 - accuracy: 0.7042 - val_loss: 1.4043 - val_accuracy: 0.4912\n",
            "Epoch 29/30\n",
            "2/2 [==============================] - 0s 67ms/step - loss: 0.5627 - accuracy: 0.7401 - val_loss: 1.3882 - val_accuracy: 0.5088\n",
            "Epoch 30/30\n",
            "2/2 [==============================] - 0s 73ms/step - loss: 0.5236 - accuracy: 0.7686 - val_loss: 1.3638 - val_accuracy: 0.5088\n"
          ]
        },
        {
          "output_type": "execute_result",
          "data": {
            "text/plain": [
              "<keras.callbacks.History at 0x7f71921a3c40>"
            ]
          },
          "metadata": {},
          "execution_count": 11
        }
      ]
    },
    {
      "cell_type": "markdown",
      "source": [
        "Decoding the test sentences"
      ],
      "metadata": {
        "id": "HGamSUnKbt1y"
      }
    },
    {
      "cell_type": "code",
      "source": [
        "spa_vocab = spa_vectorization.get_vocabulary()\n",
        "spa_index_lookup = dict(zip(range(len(spa_vocab)), spa_vocab))\n",
        "max_decoded_sentence_length = 20\n",
        "\n",
        "\n",
        "def decode_sequence(input_sentence):\n",
        "    tokenized_input_sentence = eng_vectorization([input_sentence])\n",
        "    decoded_sentence = \"[start]\"\n",
        "    for i in range(max_decoded_sentence_length):\n",
        "        tokenized_target_sentence = spa_vectorization([decoded_sentence])[:, :-1]\n",
        "        predictions = transformer([tokenized_input_sentence, tokenized_target_sentence])\n",
        "\n",
        "        sampled_token_index = np.argmax(predictions[0, i, :])\n",
        "        sampled_token = spa_index_lookup[sampled_token_index]\n",
        "        decoded_sentence += \" \" + sampled_token\n",
        "\n",
        "        if sampled_token == \"[end]\":\n",
        "            break\n",
        "    return decoded_sentence\n",
        "\n",
        "\n",
        "test_eng_texts = [pair[0] for pair in test_pairs]\n",
        "for _ in range(30):\n",
        "    input_sentence = random.choice(test_eng_texts)\n",
        "    translated = decode_sequence(input_sentence)"
      ],
      "metadata": {
        "id": "w_kO9S8Ubwa2"
      },
      "execution_count": 12,
      "outputs": []
    }
  ]
}