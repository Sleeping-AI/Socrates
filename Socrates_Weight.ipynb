{
  "nbformat": 4,
  "nbformat_minor": 0,
  "metadata": {
    "colab": {
      "provenance": []
    },
    "kernelspec": {
      "name": "python3",
      "display_name": "Python 3"
    },
    "language_info": {
      "name": "python"
    },
    "accelerator": "GPU",
    "gpuClass": "standard"
  },
  "cells": [
    {
      "cell_type": "markdown",
      "source": [
        "Importing libraries"
      ],
      "metadata": {
        "id": "woSAjSqlXszk"
      }
    },
    {
      "cell_type": "code",
      "execution_count": null,
      "metadata": {
        "id": "BtweJ59HiAIz"
      },
      "outputs": [],
      "source": [
        "import pathlib\n",
        "import random\n",
        "import string\n",
        "import re\n",
        "import numpy as np\n",
        "import tensorflow as tf\n",
        "from tensorflow import keras\n",
        "from tensorflow.keras import layers\n",
        "from tensorflow.keras.layers import TextVectorization"
      ]
    },
    {
      "cell_type": "markdown",
      "source": [
        "dataset file-path and loading the dataset"
      ],
      "metadata": {
        "id": "1cS_69klY6m0"
      }
    },
    {
      "cell_type": "code",
      "source": [
        "text_file = \"/content/valyrian.txt\""
      ],
      "metadata": {
        "id": "KdwKSBt2Y_zb"
      },
      "execution_count": null,
      "outputs": []
    },
    {
      "cell_type": "markdown",
      "source": [
        "Parsing the data"
      ],
      "metadata": {
        "id": "F_OFVDwPZIY7"
      }
    },
    {
      "cell_type": "code",
      "source": [
        "with open(text_file) as f:\n",
        "    lines = f.read().split(\"\\n\")[:-1]\n",
        "text_pairs = []\n",
        "for line in lines:\n",
        "    eng, spa = line.split(\"\\t\")\n",
        "    spa = \"[start] \" + spa + \" [end]\"\n",
        "    text_pairs.append((eng, spa))"
      ],
      "metadata": {
        "id": "DBp_yj7FZKHR"
      },
      "execution_count": null,
      "outputs": []
    },
    {
      "cell_type": "code",
      "source": [
        "for _ in range(5):\n",
        "    print(random.choice(text_pairs))"
      ],
      "metadata": {
        "colab": {
          "base_uri": "https://localhost:8080/"
        },
        "id": "Wedxaot_ZPQ_",
        "outputId": "523376dc-e115-409d-9229-475dd3d38a8c"
      },
      "execution_count": null,
      "outputs": [
        {
          "output_type": "stream",
          "name": "stdout",
          "text": [
            "('She forgave him.', '[start] ziry forgave zirȳla. [end]')\n",
            "('This is a horse.', '[start] bisa iksis iā anne. [end]')\n",
            "('Where are you going to go?', '[start] skoriot issi ao jāre naejot jikagon? [end]')\n",
            "('I think Tom was born in Boston.', '[start] nyke pendagon tom iksin āzma isse boston. [end]')\n",
            "(\"We don't know our neighbors.\", '[start] īlon ȳdra daor gīmigon īlva neighbors. [end]')\n"
          ]
        }
      ]
    },
    {
      "cell_type": "markdown",
      "source": [
        "splitting the data"
      ],
      "metadata": {
        "id": "xvov1UrdZSQd"
      }
    },
    {
      "cell_type": "code",
      "source": [
        "random.shuffle(text_pairs)\n",
        "num_val_samples = int(0.15 * len(text_pairs))\n",
        "num_train_samples = len(text_pairs) - 2 * num_val_samples\n",
        "train_pairs = text_pairs[:num_train_samples]\n",
        "val_pairs = text_pairs[num_train_samples : num_train_samples + num_val_samples]\n",
        "test_pairs = text_pairs[num_train_samples + num_val_samples :]\n",
        "\n",
        "print(f\"{len(text_pairs)} total pairs\")\n",
        "print(f\"{len(train_pairs)} training pairs\")\n",
        "print(f\"{len(val_pairs)} validation pairs\")\n",
        "print(f\"{len(test_pairs)} test pairs\")"
      ],
      "metadata": {
        "colab": {
          "base_uri": "https://localhost:8080/"
        },
        "id": "PygYzaQTZUHx",
        "outputId": "b65872b0-90b0-40ac-98a6-844d9a9bce59"
      },
      "execution_count": null,
      "outputs": [
        {
          "output_type": "stream",
          "name": "stdout",
          "text": [
            "154 total pairs\n",
            "108 training pairs\n",
            "23 validation pairs\n",
            "23 test pairs\n"
          ]
        }
      ]
    },
    {
      "cell_type": "markdown",
      "source": [
        "Vectorizing the text data"
      ],
      "metadata": {
        "id": "9N_z7U1iZWKa"
      }
    },
    {
      "cell_type": "code",
      "source": [
        "strip_chars = string.punctuation + \"¿\"\n",
        "strip_chars = strip_chars.replace(\"[\", \"\")\n",
        "strip_chars = strip_chars.replace(\"]\", \"\")\n",
        "\n",
        "vocab_size = 15000\n",
        "sequence_length = 20\n",
        "batch_size = 64\n",
        "\n",
        "\n",
        "def custom_standardization(input_string):\n",
        "    lowercase = tf.strings.lower(input_string)\n",
        "    return tf.strings.regex_replace(lowercase, \"[%s]\" % re.escape(strip_chars), \"\")\n",
        "\n",
        "\n",
        "eng_vectorization = TextVectorization(\n",
        "    max_tokens=vocab_size, output_mode=\"int\", output_sequence_length=sequence_length,\n",
        ")\n",
        "spa_vectorization = TextVectorization(\n",
        "    max_tokens=vocab_size,\n",
        "    output_mode=\"int\",\n",
        "    output_sequence_length=sequence_length + 1,\n",
        "    standardize=custom_standardization,\n",
        ")\n",
        "train_eng_texts = [pair[0] for pair in train_pairs]\n",
        "train_spa_texts = [pair[1] for pair in train_pairs]\n",
        "eng_vectorization.adapt(train_eng_texts)\n",
        "spa_vectorization.adapt(train_spa_texts)"
      ],
      "metadata": {
        "id": "EqNeY795ZYxD"
      },
      "execution_count": null,
      "outputs": []
    },
    {
      "cell_type": "code",
      "source": [
        "def format_dataset(eng, spa):\n",
        "    eng = eng_vectorization(eng)\n",
        "    spa = spa_vectorization(spa)\n",
        "    return ({\"encoder_inputs\": eng, \"decoder_inputs\": spa[:, :-1],}, spa[:, 1:])\n",
        "\n",
        "\n",
        "def make_dataset(pairs):\n",
        "    eng_texts, spa_texts = zip(*pairs)\n",
        "    eng_texts = list(eng_texts)\n",
        "    spa_texts = list(spa_texts)\n",
        "    dataset = tf.data.Dataset.from_tensor_slices((eng_texts, spa_texts))\n",
        "    dataset = dataset.batch(batch_size)\n",
        "    dataset = dataset.map(format_dataset)\n",
        "    return dataset.shuffle(2048).prefetch(16).cache()\n",
        "\n",
        "\n",
        "train_ds = make_dataset(train_pairs)\n",
        "val_ds = make_dataset(val_pairs)"
      ],
      "metadata": {
        "id": "pM9mhL5TZdYk"
      },
      "execution_count": null,
      "outputs": []
    },
    {
      "cell_type": "code",
      "source": [
        "for inputs, targets in train_ds.take(1):\n",
        "    print(f'inputs[\"encoder_inputs\"].shape: {inputs[\"encoder_inputs\"].shape}')\n",
        "    print(f'inputs[\"decoder_inputs\"].shape: {inputs[\"decoder_inputs\"].shape}')\n",
        "    print(f\"targets.shape: {targets.shape}\")"
      ],
      "metadata": {
        "colab": {
          "base_uri": "https://localhost:8080/"
        },
        "id": "7Pd6surPZf5k",
        "outputId": "885138e9-78b2-4c4d-bb24-70a936b4d180"
      },
      "execution_count": null,
      "outputs": [
        {
          "output_type": "stream",
          "name": "stdout",
          "text": [
            "inputs[\"encoder_inputs\"].shape: (44, 20)\n",
            "inputs[\"decoder_inputs\"].shape: (44, 20)\n",
            "targets.shape: (44, 20)\n"
          ]
        }
      ]
    },
    {
      "cell_type": "markdown",
      "source": [
        "Building the model"
      ],
      "metadata": {
        "id": "8XayUCjWbXMt"
      }
    },
    {
      "cell_type": "code",
      "source": [
        "class TransformerEncoder(layers.Layer):\n",
        "    def __init__(self, embed_dim, dense_dim, num_heads, **kwargs):\n",
        "        super(TransformerEncoder, self).__init__(**kwargs)\n",
        "        self.embed_dim = embed_dim\n",
        "        self.dense_dim = dense_dim\n",
        "        self.num_heads = num_heads\n",
        "        self.attention = layers.MultiHeadAttention(\n",
        "            num_heads=num_heads, key_dim=embed_dim\n",
        "        )\n",
        "        self.dense_proj = keras.Sequential(\n",
        "            [layers.Dense(dense_dim, activation=\"relu\"), layers.Dense(embed_dim),]\n",
        "        )\n",
        "        self.layernorm_1 = layers.LayerNormalization()\n",
        "        self.layernorm_2 = layers.LayerNormalization()\n",
        "        self.supports_masking = True\n",
        "\n",
        "    def call(self, inputs, mask=None):\n",
        "        if mask is not None:\n",
        "            padding_mask = tf.cast(mask[:, tf.newaxis, tf.newaxis, :], dtype=\"int32\")\n",
        "        attention_output = self.attention(\n",
        "            query=inputs, value=inputs, key=inputs, attention_mask=padding_mask\n",
        "        )\n",
        "        proj_input = self.layernorm_1(inputs + attention_output)\n",
        "        proj_output = self.dense_proj(proj_input)\n",
        "        return self.layernorm_2(proj_input + proj_output)\n",
        "\n",
        "\n",
        "class PositionalEmbedding(layers.Layer):\n",
        "    def __init__(self, sequence_length, vocab_size, embed_dim, **kwargs):\n",
        "        super(PositionalEmbedding, self).__init__(**kwargs)\n",
        "        self.token_embeddings = layers.Embedding(\n",
        "            input_dim=vocab_size, output_dim=embed_dim\n",
        "        )\n",
        "        self.position_embeddings = layers.Embedding(\n",
        "            input_dim=sequence_length, output_dim=embed_dim\n",
        "        )\n",
        "        self.sequence_length = sequence_length\n",
        "        self.vocab_size = vocab_size\n",
        "        self.embed_dim = embed_dim\n",
        "\n",
        "    def call(self, inputs):\n",
        "        length = tf.shape(inputs)[-1]\n",
        "        positions = tf.range(start=0, limit=length, delta=1)\n",
        "        embedded_tokens = self.token_embeddings(inputs)\n",
        "        embedded_positions = self.position_embeddings(positions)\n",
        "        return embedded_tokens + embedded_positions\n",
        "\n",
        "    def compute_mask(self, inputs, mask=None):\n",
        "        return tf.math.not_equal(inputs, 0)\n",
        "\n",
        "\n",
        "class TransformerDecoder(layers.Layer):\n",
        "    def __init__(self, embed_dim, latent_dim, num_heads, **kwargs):\n",
        "        super(TransformerDecoder, self).__init__(**kwargs)\n",
        "        self.embed_dim = embed_dim\n",
        "        self.latent_dim = latent_dim\n",
        "        self.num_heads = num_heads\n",
        "        self.attention_1 = layers.MultiHeadAttention(\n",
        "            num_heads=num_heads, key_dim=embed_dim\n",
        "        )\n",
        "        self.attention_2 = layers.MultiHeadAttention(\n",
        "            num_heads=num_heads, key_dim=embed_dim\n",
        "        )\n",
        "        self.dense_proj = keras.Sequential(\n",
        "            [layers.Dense(latent_dim, activation=\"relu\"), layers.Dense(embed_dim),]\n",
        "        )\n",
        "        self.layernorm_1 = layers.LayerNormalization()\n",
        "        self.layernorm_2 = layers.LayerNormalization()\n",
        "        self.layernorm_3 = layers.LayerNormalization()\n",
        "        self.supports_masking = True\n",
        "\n",
        "    def call(self, inputs, encoder_outputs, mask=None):\n",
        "        causal_mask = self.get_causal_attention_mask(inputs)\n",
        "        if mask is not None:\n",
        "            padding_mask = tf.cast(mask[:, tf.newaxis, :], dtype=\"int32\")\n",
        "            padding_mask = tf.minimum(padding_mask, causal_mask)\n",
        "\n",
        "        attention_output_1 = self.attention_1(\n",
        "            query=inputs, value=inputs, key=inputs, attention_mask=causal_mask\n",
        "        )\n",
        "        out_1 = self.layernorm_1(inputs + attention_output_1)\n",
        "\n",
        "        attention_output_2 = self.attention_2(\n",
        "            query=out_1,\n",
        "            value=encoder_outputs,\n",
        "            key=encoder_outputs,\n",
        "            attention_mask=padding_mask,\n",
        "        )\n",
        "        out_2 = self.layernorm_2(out_1 + attention_output_2)\n",
        "\n",
        "        proj_output = self.dense_proj(out_2)\n",
        "        return self.layernorm_3(out_2 + proj_output)\n",
        "\n",
        "    def get_causal_attention_mask(self, inputs):\n",
        "        input_shape = tf.shape(inputs)\n",
        "        batch_size, sequence_length = input_shape[0], input_shape[1]\n",
        "        i = tf.range(sequence_length)[:, tf.newaxis]\n",
        "        j = tf.range(sequence_length)\n",
        "        mask = tf.cast(i >= j, dtype=\"int32\")\n",
        "        mask = tf.reshape(mask, (1, input_shape[1], input_shape[1]))\n",
        "        mult = tf.concat(\n",
        "            [tf.expand_dims(batch_size, -1), tf.constant([1, 1], dtype=tf.int32)],\n",
        "            axis=0,\n",
        "        )\n",
        "        return tf.tile(mask, mult)"
      ],
      "metadata": {
        "id": "fRaK6rJNbWXE"
      },
      "execution_count": null,
      "outputs": []
    },
    {
      "cell_type": "markdown",
      "source": [
        "end-end model"
      ],
      "metadata": {
        "id": "ZVraMX0FbbgO"
      }
    },
    {
      "cell_type": "code",
      "source": [
        "embed_dim = 256\n",
        "latent_dim = 2048\n",
        "num_heads = 8\n",
        "\n",
        "encoder_inputs = keras.Input(shape=(None,), dtype=\"int64\", name=\"encoder_inputs\")\n",
        "x = PositionalEmbedding(sequence_length, vocab_size, embed_dim)(encoder_inputs)\n",
        "encoder_outputs = TransformerEncoder(embed_dim, latent_dim, num_heads)(x)\n",
        "encoder = keras.Model(encoder_inputs, encoder_outputs)\n",
        "\n",
        "decoder_inputs = keras.Input(shape=(None,), dtype=\"int64\", name=\"decoder_inputs\")\n",
        "encoded_seq_inputs = keras.Input(shape=(None, embed_dim), name=\"decoder_state_inputs\")\n",
        "x = PositionalEmbedding(sequence_length, vocab_size, embed_dim)(decoder_inputs)\n",
        "x = TransformerDecoder(embed_dim, latent_dim, num_heads)(x, encoded_seq_inputs)\n",
        "x = layers.Dropout(0.5)(x)\n",
        "decoder_outputs = layers.Dense(vocab_size, activation=\"softmax\")(x)\n",
        "decoder = keras.Model([decoder_inputs, encoded_seq_inputs], decoder_outputs)\n",
        "\n",
        "decoder_outputs = decoder([decoder_inputs, encoder_outputs])\n",
        "transformer = keras.Model(\n",
        "    [encoder_inputs, decoder_inputs], decoder_outputs, name=\"transformer\"\n",
        ")"
      ],
      "metadata": {
        "id": "lOgCQEGsba4a"
      },
      "execution_count": null,
      "outputs": []
    },
    {
      "cell_type": "markdown",
      "source": [
        "Training the model"
      ],
      "metadata": {
        "id": "6XPDXmawbgxB"
      }
    },
    {
      "cell_type": "code",
      "source": [
        "epochs = 30  # This should be at least 30 for convergence\n",
        "\n",
        "transformer.summary()\n",
        "transformer.compile(\n",
        "    \"rmsprop\", loss=\"sparse_categorical_crossentropy\", metrics=[\"accuracy\"]\n",
        ")\n",
        "\n",
        "transformer.fit(train_ds, epochs=epochs, validation_data=val_ds)"
      ],
      "metadata": {
        "colab": {
          "base_uri": "https://localhost:8080/"
        },
        "id": "MA0EIZ-ubh-1",
        "outputId": "bad33a82-79e8-4a46-c4ac-4c055c610fec"
      },
      "execution_count": null,
      "outputs": [
        {
          "output_type": "stream",
          "name": "stdout",
          "text": [
            "Model: \"transformer\"\n",
            "__________________________________________________________________________________________________\n",
            " Layer (type)                   Output Shape         Param #     Connected to                     \n",
            "==================================================================================================\n",
            " encoder_inputs (InputLayer)    [(None, None)]       0           []                               \n",
            "                                                                                                  \n",
            " positional_embedding (Position  (None, None, 256)   3845120     ['encoder_inputs[0][0]']         \n",
            " alEmbedding)                                                                                     \n",
            "                                                                                                  \n",
            " decoder_inputs (InputLayer)    [(None, None)]       0           []                               \n",
            "                                                                                                  \n",
            " transformer_encoder (Transform  (None, None, 256)   3155456     ['positional_embedding[0][0]']   \n",
            " erEncoder)                                                                                       \n",
            "                                                                                                  \n",
            " model_1 (Functional)           (None, None, 15000)  12959640    ['decoder_inputs[0][0]',         \n",
            "                                                                  'transformer_encoder[0][0]']    \n",
            "                                                                                                  \n",
            "==================================================================================================\n",
            "Total params: 19,960,216\n",
            "Trainable params: 19,960,216\n",
            "Non-trainable params: 0\n",
            "__________________________________________________________________________________________________\n",
            "Epoch 1/30\n",
            "2/2 [==============================] - 8s 741ms/step - loss: 3.4836 - accuracy: 0.0909 - val_loss: 3.2888 - val_accuracy: 0.2865\n",
            "Epoch 2/30\n",
            "2/2 [==============================] - 0s 95ms/step - loss: 3.0944 - accuracy: 0.2366 - val_loss: 2.6442 - val_accuracy: 0.1345\n",
            "Epoch 3/30\n",
            "2/2 [==============================] - 0s 90ms/step - loss: 2.5013 - accuracy: 0.1719 - val_loss: 2.2510 - val_accuracy: 0.2807\n",
            "Epoch 4/30\n",
            "2/2 [==============================] - 0s 69ms/step - loss: 2.1318 - accuracy: 0.2491 - val_loss: 2.0818 - val_accuracy: 0.2690\n",
            "Epoch 5/30\n",
            "2/2 [==============================] - 0s 67ms/step - loss: 1.9354 - accuracy: 0.1880 - val_loss: 1.9658 - val_accuracy: 0.1404\n",
            "Epoch 6/30\n",
            "2/2 [==============================] - 0s 68ms/step - loss: 1.8602 - accuracy: 0.1507 - val_loss: 1.9177 - val_accuracy: 0.1637\n",
            "Epoch 7/30\n",
            "2/2 [==============================] - 0s 68ms/step - loss: 1.7514 - accuracy: 0.2167 - val_loss: 1.8443 - val_accuracy: 0.2924\n",
            "Epoch 8/30\n",
            "2/2 [==============================] - 0s 74ms/step - loss: 1.6835 - accuracy: 0.2403 - val_loss: 1.8095 - val_accuracy: 0.1871\n",
            "Epoch 9/30\n",
            "2/2 [==============================] - 0s 68ms/step - loss: 1.6302 - accuracy: 0.2229 - val_loss: 1.7555 - val_accuracy: 0.2749\n",
            "Epoch 10/30\n",
            "2/2 [==============================] - 0s 70ms/step - loss: 1.5859 - accuracy: 0.2976 - val_loss: 1.7579 - val_accuracy: 0.2749\n",
            "Epoch 11/30\n",
            "2/2 [==============================] - 0s 70ms/step - loss: 1.5223 - accuracy: 0.2927 - val_loss: 1.6964 - val_accuracy: 0.3275\n",
            "Epoch 12/30\n",
            "2/2 [==============================] - 0s 82ms/step - loss: 1.4865 - accuracy: 0.2802 - val_loss: 1.7649 - val_accuracy: 0.2047\n",
            "Epoch 13/30\n",
            "2/2 [==============================] - 0s 76ms/step - loss: 1.5380 - accuracy: 0.1880 - val_loss: 1.8423 - val_accuracy: 0.2105\n",
            "Epoch 14/30\n",
            "2/2 [==============================] - 0s 68ms/step - loss: 1.5737 - accuracy: 0.2254 - val_loss: 1.6962 - val_accuracy: 0.2982\n",
            "Epoch 15/30\n",
            "2/2 [==============================] - 0s 77ms/step - loss: 1.4114 - accuracy: 0.3076 - val_loss: 1.5963 - val_accuracy: 0.3626\n",
            "Epoch 16/30\n",
            "2/2 [==============================] - 0s 86ms/step - loss: 1.2789 - accuracy: 0.3661 - val_loss: 1.5442 - val_accuracy: 0.3684\n",
            "Epoch 17/30\n",
            "2/2 [==============================] - 0s 81ms/step - loss: 1.2153 - accuracy: 0.4010 - val_loss: 1.5035 - val_accuracy: 0.4152\n",
            "Epoch 18/30\n",
            "2/2 [==============================] - 0s 76ms/step - loss: 1.1794 - accuracy: 0.4147 - val_loss: 1.5083 - val_accuracy: 0.3684\n",
            "Epoch 19/30\n",
            "2/2 [==============================] - 0s 74ms/step - loss: 1.1401 - accuracy: 0.4047 - val_loss: 1.4322 - val_accuracy: 0.4503\n",
            "Epoch 20/30\n",
            "2/2 [==============================] - 0s 76ms/step - loss: 1.0393 - accuracy: 0.4583 - val_loss: 1.4395 - val_accuracy: 0.4854\n",
            "Epoch 21/30\n",
            "2/2 [==============================] - 0s 83ms/step - loss: 1.0582 - accuracy: 0.4770 - val_loss: 1.4015 - val_accuracy: 0.4795\n",
            "Epoch 22/30\n",
            "2/2 [==============================] - 0s 84ms/step - loss: 0.9463 - accuracy: 0.5367 - val_loss: 1.3560 - val_accuracy: 0.5088\n",
            "Epoch 23/30\n",
            "2/2 [==============================] - 0s 74ms/step - loss: 0.8800 - accuracy: 0.5554 - val_loss: 1.3197 - val_accuracy: 0.4854\n",
            "Epoch 24/30\n",
            "2/2 [==============================] - 0s 75ms/step - loss: 0.8137 - accuracy: 0.6065 - val_loss: 1.3505 - val_accuracy: 0.5088\n",
            "Epoch 25/30\n",
            "2/2 [==============================] - 0s 68ms/step - loss: 0.7980 - accuracy: 0.5978 - val_loss: 1.2813 - val_accuracy: 0.5088\n",
            "Epoch 26/30\n",
            "2/2 [==============================] - 0s 67ms/step - loss: 0.7069 - accuracy: 0.6314 - val_loss: 1.2033 - val_accuracy: 0.5731\n",
            "Epoch 27/30\n",
            "2/2 [==============================] - 0s 69ms/step - loss: 0.6421 - accuracy: 0.6949 - val_loss: 1.1759 - val_accuracy: 0.5789\n",
            "Epoch 28/30\n",
            "2/2 [==============================] - 0s 74ms/step - loss: 0.5860 - accuracy: 0.7472 - val_loss: 1.1513 - val_accuracy: 0.6023\n",
            "Epoch 29/30\n",
            "2/2 [==============================] - 0s 74ms/step - loss: 0.5390 - accuracy: 0.7472 - val_loss: 1.1523 - val_accuracy: 0.5965\n",
            "Epoch 30/30\n",
            "2/2 [==============================] - 0s 78ms/step - loss: 0.4709 - accuracy: 0.8070 - val_loss: 1.1126 - val_accuracy: 0.6082\n"
          ]
        },
        {
          "output_type": "execute_result",
          "data": {
            "text/plain": [
              "<keras.callbacks.History at 0x7fa6a018ce20>"
            ]
          },
          "metadata": {},
          "execution_count": 11
        }
      ]
    },
    {
      "cell_type": "markdown",
      "source": [
        "Saving model and Re-Loading"
      ],
      "metadata": {
        "id": "KAwWOUERqeIF"
      }
    },
    {
      "cell_type": "code",
      "source": [
        "transformer.save_weights(\"/content/Weights\")"
      ],
      "metadata": {
        "id": "MTR5RwXyqmaV"
      },
      "execution_count": null,
      "outputs": []
    },
    {
      "cell_type": "markdown",
      "source": [
        "Decoding the test sentences"
      ],
      "metadata": {
        "id": "HGamSUnKbt1y"
      }
    },
    {
      "cell_type": "code",
      "source": [
        "spa_vocab = spa_vectorization.get_vocabulary()\n",
        "spa_index_lookup = dict(zip(range(len(spa_vocab)), spa_vocab))\n",
        "max_decoded_sentence_length = 20\n",
        "\n",
        "\n",
        "def decode_sequence(input_sentence):\n",
        "    tokenized_input_sentence = eng_vectorization([input_sentence])\n",
        "    decoded_sentence = \"[start]\"\n",
        "    for i in range(max_decoded_sentence_length):\n",
        "        tokenized_target_sentence = spa_vectorization([decoded_sentence])[:, :-1]\n",
        "        predictions = transformer([tokenized_input_sentence, tokenized_target_sentence])\n",
        "\n",
        "        sampled_token_index = np.argmax(predictions[0, i, :])\n",
        "        sampled_token = spa_index_lookup[sampled_token_index]\n",
        "        decoded_sentence += \" \" + sampled_token\n",
        "\n",
        "        if sampled_token == \"[end]\":\n",
        "            break\n",
        "    return decoded_sentence\n",
        "\n",
        "\n",
        "test_eng_texts = [pair[0] for pair in test_pairs]\n",
        "for _ in range(30):\n",
        "    input_sentence = random.choice(test_eng_texts)\n",
        "    translated = decode_sequence(input_sentence)\n",
        "    print(input_sentence)\n",
        "    print(translated)"
      ],
      "metadata": {
        "id": "w_kO9S8Ubwa2",
        "outputId": "8781c31d-5cdb-479c-bed1-42df4749b35f",
        "colab": {
          "base_uri": "https://localhost:8080/"
        }
      },
      "execution_count": null,
      "outputs": [
        {
          "output_type": "stream",
          "name": "stdout",
          "text": [
            "We don't know our neighbors.\n",
            "[start] īlon didnt gaomagon iā run [end]\n",
            "We're old friends.\n",
            "[start] īlonre uēpa raqirossa [end]\n",
            "Tom is standing in the corner of the room.\n",
            "[start] tom iksis iā run se corner hen tistālion [end]\n",
            "I can't imagine my life without you.\n",
            "[start] nyke pendagon tom iksin āzma isse zirȳla [end]\n",
            "What would you like Tom to do?\n",
            "[start] skoros could ao jāre naejot jikagon [end]\n",
            "We don't know our neighbors.\n",
            "[start] īlon didnt gaomagon iā run [end]\n",
            "Tom's smiling.\n",
            "[start] skoros could ziry [end]\n",
            "Tom is standing in the corner of the room.\n",
            "[start] tom iksis iā run se corner hen tistālion [end]\n",
            "What would you like Tom to do?\n",
            "[start] skoros could ao jāre naejot jikagon [end]\n",
            "We're old friends.\n",
            "[start] īlonre uēpa raqirossa [end]\n",
            "The house is cold.\n",
            "[start] se school iksis iā [end]\n",
            "I want you to read this book.\n",
            "[start] nyke pendagon ao jāre naejot jikagon [end]\n",
            "Don't be so stupid.\n",
            "[start] ȳdra daor sagon sagon [end]\n",
            "It's too late to do anything about that now.\n",
            "[start] ziry iksos daor se bottom hen qelbar [end]\n",
            "I think so, too.\n",
            "[start] nyke pendagon sīr tolī [end]\n",
            "Can you wait a bit?\n",
            "[start] kostagon ao ūndegīon zirȳla [end]\n",
            "Are you going by bus or car?\n",
            "[start] issi ao jāre ondoso bus iā car [end]\n",
            "Can you wait a bit?\n",
            "[start] kostagon ao ūndegīon zirȳla [end]\n",
            "Tom's smiling.\n",
            "[start] skoros could ziry [end]\n",
            "I want you to read this book.\n",
            "[start] nyke pendagon ao jāre naejot jikagon [end]\n",
            "The house is cold.\n",
            "[start] se school iksis iā [end]\n",
            "I want you to read this book.\n",
            "[start] nyke pendagon ao jāre naejot jikagon [end]\n",
            "I have to make some calls.\n",
            "[start] nyke pendagon naejot zirȳla se corner [end]\n",
            "I want you to read this book.\n",
            "[start] nyke pendagon ao jāre naejot jikagon [end]\n",
            "Tom's smiling.\n",
            "[start] skoros could ziry [end]\n",
            "It's too late to do anything about that now.\n",
            "[start] ziry iksos daor se bottom hen qelbar [end]\n",
            "I always go to school on foot.\n",
            "[start] nyke pendagon tom iksin āzma isse boston [end]\n",
            "There she comes.\n",
            "[start] emagon ao ūndegīon zirȳla [end]\n",
            "I always go to school on foot.\n",
            "[start] nyke pendagon tom iksin āzma isse boston [end]\n",
            "Can you wait a bit?\n",
            "[start] kostagon ao ūndegīon zirȳla [end]\n"
          ]
        }
      ]
    },
    {
      "cell_type": "code",
      "source": [
        "from google.colab import drive\n",
        "drive.mount('/content/drive')"
      ],
      "metadata": {
        "id": "1o44jVSfJxEw",
        "outputId": "241c86af-5046-467c-f841-79078135effd",
        "colab": {
          "base_uri": "https://localhost:8080/"
        }
      },
      "execution_count": null,
      "outputs": [
        {
          "output_type": "stream",
          "name": "stdout",
          "text": [
            "Mounted at /content/drive\n"
          ]
        }
      ]
    },
    {
      "cell_type": "markdown",
      "source": [
        "copying the trained model weights"
      ],
      "metadata": {
        "id": "ZWu7JCHlJ78M"
      }
    },
    {
      "cell_type": "code",
      "source": [
        "import shutil\n",
        "\n",
        "src = \"/content/Weights/checkpoint\"\n",
        "dest = \"/content/drive/MyDrive/Socrates Weights\"\n",
        "\n",
        "shutil.copy(src, dest)"
      ],
      "metadata": {
        "id": "IOkDLmjKMhFt",
        "outputId": "c4166baf-5da9-4c16-c46d-8e9d85d5b228",
        "colab": {
          "base_uri": "https://localhost:8080/",
          "height": 36
        }
      },
      "execution_count": null,
      "outputs": [
        {
          "output_type": "execute_result",
          "data": {
            "text/plain": [
              "'/content/drive/MyDrive/Socrates Weights/checkpoint'"
            ],
            "application/vnd.google.colaboratory.intrinsic+json": {
              "type": "string"
            }
          },
          "metadata": {},
          "execution_count": 22
        }
      ]
    }
  ]
}